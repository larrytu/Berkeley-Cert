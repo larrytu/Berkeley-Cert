{
 "cells": [
  {
   "cell_type": "markdown",
   "metadata": {
    "id": "CcUT6Fon_qRE"
   },
   "source": [
    "### Required Assignment 5.1: Will the Customer Accept the Coupon?\n",
    "\n",
    "**Context**\n",
    "\n",
    "Imagine driving through town and a coupon is delivered to your cell phone for a restaurant near where you are driving. Would you accept that coupon and take a short detour to the restaurant? Would you accept the coupon but use it on a subsequent trip? Would you ignore the coupon entirely? What if the coupon was for a bar instead of a restaurant? What about a coffee house? Would you accept a bar coupon with a minor passenger in the car? What about if it was just you and your partner in the car? Would weather impact the rate of acceptance? What about the time of day?\n",
    "\n",
    "Obviously, proximity to the business is a factor on whether the coupon is delivered to the driver or not, but what are the factors that determine whether a driver accepts the coupon once it is delivered to them? How would you determine whether a driver is likely to accept a coupon?\n",
    "\n",
    "**Overview**\n",
    "\n",
    "The goal of this project is to use what you know about visualizations and probability distributions to distinguish between customers who accepted a driving coupon versus those that did not.\n",
    "\n",
    "**Data**\n",
    "\n",
    "This data comes to us from the UCI Machine Learning repository and was collected via a survey on Amazon Mechanical Turk. The survey describes different driving scenarios including the destination, current time, weather, passenger, etc., and then ask the person whether he will accept the coupon if he is the driver. Answers that the user will drive there ‘right away’ or ‘later before the coupon expires’ are labeled as ‘Y = 1’ and answers ‘no, I do not want the coupon’ are labeled as ‘Y = 0’.  There are five different types of coupons -- less expensive restaurants (under \\$20), coffee houses, carry out & take away, bar, and more expensive restaurants (\\$20 - $50)."
   ]
  },
  {
   "cell_type": "markdown",
   "metadata": {
    "id": "1wORvMBJ_qRF"
   },
   "source": [
    "**Deliverables**\n",
    "\n",
    "Your final product should be a brief report that highlights the differences between customers who did and did not accept the coupons.  To explore the data you will utilize your knowledge of plotting, statistical summaries, and visualization using Python. You will publish your findings in a public facing github repository as your first portfolio piece.\n",
    "\n",
    "\n",
    "\n"
   ]
  },
  {
   "cell_type": "markdown",
   "metadata": {
    "id": "pG6_Ym6q_qRG"
   },
   "source": [
    "### Data Description\n",
    "Keep in mind that these values mentioned below are average values.\n",
    "\n",
    "The attributes of this data set include:\n",
    "1. User attributes\n",
    "    -  Gender: male, female\n",
    "    -  Age: below 21, 21 to 25, 26 to 30, etc.\n",
    "    -  Marital Status: single, married partner, unmarried partner, or widowed\n",
    "    -  Number of children: 0, 1, or more than 1\n",
    "    -  Education: high school, bachelors degree, associates degree, or graduate degree\n",
    "    -  Occupation: architecture & engineering, business & financial, etc.\n",
    "    -  Annual income: less than \\\\$12500, \\\\$12500 - \\\\$24999, \\\\$25000 - \\\\$37499, etc.\n",
    "    -  Number of times that he/she goes to a bar: 0, less than 1, 1 to 3, 4 to 8 or greater than 8\n",
    "    -  Number of times that he/she buys takeaway food: 0, less than 1, 1 to 3, 4 to 8 or greater\n",
    "    than 8\n",
    "    -  Number of times that he/she goes to a coffee house: 0, less than 1, 1 to 3, 4 to 8 or\n",
    "    greater than 8\n",
    "    -  Number of times that he/she eats at a restaurant with average expense less than \\\\$20 per\n",
    "    person: 0, less than 1, 1 to 3, 4 to 8 or greater than 8\n",
    "    -  Number of times that he/she goes to a bar: 0, less than 1, 1 to 3, 4 to 8 or greater than 8\n",
    "    \n",
    "\n",
    "2. Contextual attributes\n",
    "    - Driving destination: home, work, or no urgent destination\n",
    "    - Location of user, coupon and destination: we provide a map to show the geographical\n",
    "    location of the user, destination, and the venue, and we mark the distance between each\n",
    "    two places with time of driving. The user can see whether the venue is in the same\n",
    "    direction as the destination.\n",
    "    - Weather: sunny, rainy, or snowy\n",
    "    - Temperature: 30F, 55F, or 80F\n",
    "    - Time: 10AM, 2PM, or 6PM\n",
    "    - Passenger: alone, partner, kid(s), or friend(s)\n",
    "\n",
    "\n",
    "3. Coupon attributes\n",
    "    - time before it expires: 2 hours or one day"
   ]
  },
  {
   "cell_type": "code",
   "execution_count": 39,
   "metadata": {
    "id": "dzNoP3o__qRG"
   },
   "outputs": [],
   "source": [
    "import matplotlib.pyplot as plt\n",
    "import seaborn as sns\n",
    "import pandas as pd\n",
    "import numpy as np"
   ]
  },
  {
   "cell_type": "markdown",
   "metadata": {
    "id": "Ct8pI1uE_qRG"
   },
   "source": [
    "### Problems\n",
    "\n",
    "Use the prompts below to get started with your data analysis.  \n",
    "\n",
    "1. Read in the `coupons.csv` file.\n",
    "\n",
    "\n"
   ]
  },
  {
   "cell_type": "code",
   "execution_count": 40,
   "metadata": {
    "id": "X0vbffYg_qRH"
   },
   "outputs": [],
   "source": [
    "data = pd.read_csv('data/coupons.csv')"
   ]
  },
  {
   "cell_type": "code",
   "execution_count": 41,
   "metadata": {
    "id": "TXofQ_DF_qRH",
    "outputId": "2fc96a2c-1112-4b54-f24f-dbb9bc88abfb"
   },
   "outputs": [
    {
     "data": {
      "text/html": [
       "<div>\n",
       "<style scoped>\n",
       "    .dataframe tbody tr th:only-of-type {\n",
       "        vertical-align: middle;\n",
       "    }\n",
       "\n",
       "    .dataframe tbody tr th {\n",
       "        vertical-align: top;\n",
       "    }\n",
       "\n",
       "    .dataframe thead th {\n",
       "        text-align: right;\n",
       "    }\n",
       "</style>\n",
       "<table border=\"1\" class=\"dataframe\">\n",
       "  <thead>\n",
       "    <tr style=\"text-align: right;\">\n",
       "      <th></th>\n",
       "      <th>destination</th>\n",
       "      <th>passanger</th>\n",
       "      <th>weather</th>\n",
       "      <th>temperature</th>\n",
       "      <th>time</th>\n",
       "      <th>coupon</th>\n",
       "      <th>expiration</th>\n",
       "      <th>gender</th>\n",
       "      <th>age</th>\n",
       "      <th>maritalStatus</th>\n",
       "      <th>...</th>\n",
       "      <th>CoffeeHouse</th>\n",
       "      <th>CarryAway</th>\n",
       "      <th>RestaurantLessThan20</th>\n",
       "      <th>Restaurant20To50</th>\n",
       "      <th>toCoupon_GEQ5min</th>\n",
       "      <th>toCoupon_GEQ15min</th>\n",
       "      <th>toCoupon_GEQ25min</th>\n",
       "      <th>direction_same</th>\n",
       "      <th>direction_opp</th>\n",
       "      <th>Y</th>\n",
       "    </tr>\n",
       "  </thead>\n",
       "  <tbody>\n",
       "    <tr>\n",
       "      <th>0</th>\n",
       "      <td>No Urgent Place</td>\n",
       "      <td>Alone</td>\n",
       "      <td>Sunny</td>\n",
       "      <td>55</td>\n",
       "      <td>2PM</td>\n",
       "      <td>Restaurant(&lt;20)</td>\n",
       "      <td>1d</td>\n",
       "      <td>Female</td>\n",
       "      <td>21</td>\n",
       "      <td>Unmarried partner</td>\n",
       "      <td>...</td>\n",
       "      <td>never</td>\n",
       "      <td>NaN</td>\n",
       "      <td>4~8</td>\n",
       "      <td>1~3</td>\n",
       "      <td>1</td>\n",
       "      <td>0</td>\n",
       "      <td>0</td>\n",
       "      <td>0</td>\n",
       "      <td>1</td>\n",
       "      <td>1</td>\n",
       "    </tr>\n",
       "    <tr>\n",
       "      <th>1</th>\n",
       "      <td>No Urgent Place</td>\n",
       "      <td>Friend(s)</td>\n",
       "      <td>Sunny</td>\n",
       "      <td>80</td>\n",
       "      <td>10AM</td>\n",
       "      <td>Coffee House</td>\n",
       "      <td>2h</td>\n",
       "      <td>Female</td>\n",
       "      <td>21</td>\n",
       "      <td>Unmarried partner</td>\n",
       "      <td>...</td>\n",
       "      <td>never</td>\n",
       "      <td>NaN</td>\n",
       "      <td>4~8</td>\n",
       "      <td>1~3</td>\n",
       "      <td>1</td>\n",
       "      <td>0</td>\n",
       "      <td>0</td>\n",
       "      <td>0</td>\n",
       "      <td>1</td>\n",
       "      <td>0</td>\n",
       "    </tr>\n",
       "    <tr>\n",
       "      <th>2</th>\n",
       "      <td>No Urgent Place</td>\n",
       "      <td>Friend(s)</td>\n",
       "      <td>Sunny</td>\n",
       "      <td>80</td>\n",
       "      <td>10AM</td>\n",
       "      <td>Carry out &amp; Take away</td>\n",
       "      <td>2h</td>\n",
       "      <td>Female</td>\n",
       "      <td>21</td>\n",
       "      <td>Unmarried partner</td>\n",
       "      <td>...</td>\n",
       "      <td>never</td>\n",
       "      <td>NaN</td>\n",
       "      <td>4~8</td>\n",
       "      <td>1~3</td>\n",
       "      <td>1</td>\n",
       "      <td>1</td>\n",
       "      <td>0</td>\n",
       "      <td>0</td>\n",
       "      <td>1</td>\n",
       "      <td>1</td>\n",
       "    </tr>\n",
       "    <tr>\n",
       "      <th>3</th>\n",
       "      <td>No Urgent Place</td>\n",
       "      <td>Friend(s)</td>\n",
       "      <td>Sunny</td>\n",
       "      <td>80</td>\n",
       "      <td>2PM</td>\n",
       "      <td>Coffee House</td>\n",
       "      <td>2h</td>\n",
       "      <td>Female</td>\n",
       "      <td>21</td>\n",
       "      <td>Unmarried partner</td>\n",
       "      <td>...</td>\n",
       "      <td>never</td>\n",
       "      <td>NaN</td>\n",
       "      <td>4~8</td>\n",
       "      <td>1~3</td>\n",
       "      <td>1</td>\n",
       "      <td>1</td>\n",
       "      <td>0</td>\n",
       "      <td>0</td>\n",
       "      <td>1</td>\n",
       "      <td>0</td>\n",
       "    </tr>\n",
       "    <tr>\n",
       "      <th>4</th>\n",
       "      <td>No Urgent Place</td>\n",
       "      <td>Friend(s)</td>\n",
       "      <td>Sunny</td>\n",
       "      <td>80</td>\n",
       "      <td>2PM</td>\n",
       "      <td>Coffee House</td>\n",
       "      <td>1d</td>\n",
       "      <td>Female</td>\n",
       "      <td>21</td>\n",
       "      <td>Unmarried partner</td>\n",
       "      <td>...</td>\n",
       "      <td>never</td>\n",
       "      <td>NaN</td>\n",
       "      <td>4~8</td>\n",
       "      <td>1~3</td>\n",
       "      <td>1</td>\n",
       "      <td>1</td>\n",
       "      <td>0</td>\n",
       "      <td>0</td>\n",
       "      <td>1</td>\n",
       "      <td>0</td>\n",
       "    </tr>\n",
       "    <tr>\n",
       "      <th>...</th>\n",
       "      <td>...</td>\n",
       "      <td>...</td>\n",
       "      <td>...</td>\n",
       "      <td>...</td>\n",
       "      <td>...</td>\n",
       "      <td>...</td>\n",
       "      <td>...</td>\n",
       "      <td>...</td>\n",
       "      <td>...</td>\n",
       "      <td>...</td>\n",
       "      <td>...</td>\n",
       "      <td>...</td>\n",
       "      <td>...</td>\n",
       "      <td>...</td>\n",
       "      <td>...</td>\n",
       "      <td>...</td>\n",
       "      <td>...</td>\n",
       "      <td>...</td>\n",
       "      <td>...</td>\n",
       "      <td>...</td>\n",
       "      <td>...</td>\n",
       "    </tr>\n",
       "    <tr>\n",
       "      <th>12679</th>\n",
       "      <td>Home</td>\n",
       "      <td>Partner</td>\n",
       "      <td>Rainy</td>\n",
       "      <td>55</td>\n",
       "      <td>6PM</td>\n",
       "      <td>Carry out &amp; Take away</td>\n",
       "      <td>1d</td>\n",
       "      <td>Male</td>\n",
       "      <td>26</td>\n",
       "      <td>Single</td>\n",
       "      <td>...</td>\n",
       "      <td>never</td>\n",
       "      <td>1~3</td>\n",
       "      <td>4~8</td>\n",
       "      <td>1~3</td>\n",
       "      <td>1</td>\n",
       "      <td>0</td>\n",
       "      <td>0</td>\n",
       "      <td>1</td>\n",
       "      <td>0</td>\n",
       "      <td>1</td>\n",
       "    </tr>\n",
       "    <tr>\n",
       "      <th>12680</th>\n",
       "      <td>Work</td>\n",
       "      <td>Alone</td>\n",
       "      <td>Rainy</td>\n",
       "      <td>55</td>\n",
       "      <td>7AM</td>\n",
       "      <td>Carry out &amp; Take away</td>\n",
       "      <td>1d</td>\n",
       "      <td>Male</td>\n",
       "      <td>26</td>\n",
       "      <td>Single</td>\n",
       "      <td>...</td>\n",
       "      <td>never</td>\n",
       "      <td>1~3</td>\n",
       "      <td>4~8</td>\n",
       "      <td>1~3</td>\n",
       "      <td>1</td>\n",
       "      <td>0</td>\n",
       "      <td>0</td>\n",
       "      <td>0</td>\n",
       "      <td>1</td>\n",
       "      <td>1</td>\n",
       "    </tr>\n",
       "    <tr>\n",
       "      <th>12681</th>\n",
       "      <td>Work</td>\n",
       "      <td>Alone</td>\n",
       "      <td>Snowy</td>\n",
       "      <td>30</td>\n",
       "      <td>7AM</td>\n",
       "      <td>Coffee House</td>\n",
       "      <td>1d</td>\n",
       "      <td>Male</td>\n",
       "      <td>26</td>\n",
       "      <td>Single</td>\n",
       "      <td>...</td>\n",
       "      <td>never</td>\n",
       "      <td>1~3</td>\n",
       "      <td>4~8</td>\n",
       "      <td>1~3</td>\n",
       "      <td>1</td>\n",
       "      <td>0</td>\n",
       "      <td>0</td>\n",
       "      <td>1</td>\n",
       "      <td>0</td>\n",
       "      <td>0</td>\n",
       "    </tr>\n",
       "    <tr>\n",
       "      <th>12682</th>\n",
       "      <td>Work</td>\n",
       "      <td>Alone</td>\n",
       "      <td>Snowy</td>\n",
       "      <td>30</td>\n",
       "      <td>7AM</td>\n",
       "      <td>Bar</td>\n",
       "      <td>1d</td>\n",
       "      <td>Male</td>\n",
       "      <td>26</td>\n",
       "      <td>Single</td>\n",
       "      <td>...</td>\n",
       "      <td>never</td>\n",
       "      <td>1~3</td>\n",
       "      <td>4~8</td>\n",
       "      <td>1~3</td>\n",
       "      <td>1</td>\n",
       "      <td>1</td>\n",
       "      <td>1</td>\n",
       "      <td>0</td>\n",
       "      <td>1</td>\n",
       "      <td>0</td>\n",
       "    </tr>\n",
       "    <tr>\n",
       "      <th>12683</th>\n",
       "      <td>Work</td>\n",
       "      <td>Alone</td>\n",
       "      <td>Sunny</td>\n",
       "      <td>80</td>\n",
       "      <td>7AM</td>\n",
       "      <td>Restaurant(20-50)</td>\n",
       "      <td>2h</td>\n",
       "      <td>Male</td>\n",
       "      <td>26</td>\n",
       "      <td>Single</td>\n",
       "      <td>...</td>\n",
       "      <td>never</td>\n",
       "      <td>1~3</td>\n",
       "      <td>4~8</td>\n",
       "      <td>1~3</td>\n",
       "      <td>1</td>\n",
       "      <td>0</td>\n",
       "      <td>0</td>\n",
       "      <td>1</td>\n",
       "      <td>0</td>\n",
       "      <td>0</td>\n",
       "    </tr>\n",
       "  </tbody>\n",
       "</table>\n",
       "<p>12684 rows × 26 columns</p>\n",
       "</div>"
      ],
      "text/plain": [
       "           destination  passanger weather  temperature  time  \\\n",
       "0      No Urgent Place      Alone   Sunny           55   2PM   \n",
       "1      No Urgent Place  Friend(s)   Sunny           80  10AM   \n",
       "2      No Urgent Place  Friend(s)   Sunny           80  10AM   \n",
       "3      No Urgent Place  Friend(s)   Sunny           80   2PM   \n",
       "4      No Urgent Place  Friend(s)   Sunny           80   2PM   \n",
       "...                ...        ...     ...          ...   ...   \n",
       "12679             Home    Partner   Rainy           55   6PM   \n",
       "12680             Work      Alone   Rainy           55   7AM   \n",
       "12681             Work      Alone   Snowy           30   7AM   \n",
       "12682             Work      Alone   Snowy           30   7AM   \n",
       "12683             Work      Alone   Sunny           80   7AM   \n",
       "\n",
       "                      coupon expiration  gender age      maritalStatus  ...  \\\n",
       "0            Restaurant(<20)         1d  Female  21  Unmarried partner  ...   \n",
       "1               Coffee House         2h  Female  21  Unmarried partner  ...   \n",
       "2      Carry out & Take away         2h  Female  21  Unmarried partner  ...   \n",
       "3               Coffee House         2h  Female  21  Unmarried partner  ...   \n",
       "4               Coffee House         1d  Female  21  Unmarried partner  ...   \n",
       "...                      ...        ...     ...  ..                ...  ...   \n",
       "12679  Carry out & Take away         1d    Male  26             Single  ...   \n",
       "12680  Carry out & Take away         1d    Male  26             Single  ...   \n",
       "12681           Coffee House         1d    Male  26             Single  ...   \n",
       "12682                    Bar         1d    Male  26             Single  ...   \n",
       "12683      Restaurant(20-50)         2h    Male  26             Single  ...   \n",
       "\n",
       "       CoffeeHouse CarryAway RestaurantLessThan20 Restaurant20To50  \\\n",
       "0            never       NaN                  4~8              1~3   \n",
       "1            never       NaN                  4~8              1~3   \n",
       "2            never       NaN                  4~8              1~3   \n",
       "3            never       NaN                  4~8              1~3   \n",
       "4            never       NaN                  4~8              1~3   \n",
       "...            ...       ...                  ...              ...   \n",
       "12679        never       1~3                  4~8              1~3   \n",
       "12680        never       1~3                  4~8              1~3   \n",
       "12681        never       1~3                  4~8              1~3   \n",
       "12682        never       1~3                  4~8              1~3   \n",
       "12683        never       1~3                  4~8              1~3   \n",
       "\n",
       "      toCoupon_GEQ5min toCoupon_GEQ15min toCoupon_GEQ25min direction_same  \\\n",
       "0                    1                 0                 0              0   \n",
       "1                    1                 0                 0              0   \n",
       "2                    1                 1                 0              0   \n",
       "3                    1                 1                 0              0   \n",
       "4                    1                 1                 0              0   \n",
       "...                ...               ...               ...            ...   \n",
       "12679                1                 0                 0              1   \n",
       "12680                1                 0                 0              0   \n",
       "12681                1                 0                 0              1   \n",
       "12682                1                 1                 1              0   \n",
       "12683                1                 0                 0              1   \n",
       "\n",
       "      direction_opp  Y  \n",
       "0                 1  1  \n",
       "1                 1  0  \n",
       "2                 1  1  \n",
       "3                 1  0  \n",
       "4                 1  0  \n",
       "...             ... ..  \n",
       "12679             0  1  \n",
       "12680             1  1  \n",
       "12681             0  0  \n",
       "12682             1  0  \n",
       "12683             0  0  \n",
       "\n",
       "[12684 rows x 26 columns]"
      ]
     },
     "execution_count": 41,
     "metadata": {},
     "output_type": "execute_result"
    }
   ],
   "source": [
    "data"
   ]
  },
  {
   "cell_type": "markdown",
   "metadata": {
    "id": "GcDs78ZH_qRH"
   },
   "source": [
    "2. Investigate the dataset for missing or problematic data."
   ]
  },
  {
   "cell_type": "code",
   "execution_count": 42,
   "metadata": {
    "id": "6CwL6oWj_qRH"
   },
   "outputs": [
    {
     "name": "stdout",
     "output_type": "stream",
     "text": [
      "destination                 0\n",
      "passanger                   0\n",
      "weather                     0\n",
      "temperature                 0\n",
      "time                        0\n",
      "coupon                      0\n",
      "expiration                  0\n",
      "gender                      0\n",
      "age                         0\n",
      "maritalStatus               0\n",
      "has_children                0\n",
      "education                   0\n",
      "occupation                  0\n",
      "income                      0\n",
      "car                     12576\n",
      "Bar                       107\n",
      "CoffeeHouse               217\n",
      "CarryAway                 151\n",
      "RestaurantLessThan20      130\n",
      "Restaurant20To50          189\n",
      "toCoupon_GEQ5min            0\n",
      "toCoupon_GEQ15min           0\n",
      "toCoupon_GEQ25min           0\n",
      "direction_same              0\n",
      "direction_opp               0\n",
      "Y                           0\n",
      "dtype: int64\n"
     ]
    }
   ],
   "source": [
    "missingData = data.isnull().sum()\n",
    "print(missingData)"
   ]
  },
  {
   "cell_type": "markdown",
   "metadata": {},
   "source": [
    "I have observed"
   ]
  },
  {
   "cell_type": "markdown",
   "metadata": {
    "id": "bSdVSpYB_qRH"
   },
   "source": [
    "3. Decide what to do about your missing data -- drop, replace, other..."
   ]
  },
  {
   "cell_type": "code",
   "execution_count": 43,
   "metadata": {
    "id": "tyvoAC5F_qRI"
   },
   "outputs": [],
   "source": [
    "# Going to drop the car column due to the large amounts of missing data\n",
    "data = data.drop(columns=['car'])"
   ]
  },
  {
   "cell_type": "code",
   "execution_count": 44,
   "metadata": {},
   "outputs": [],
   "source": [
    "# Getting the modes of the columns that contains missing values and replacing the empty values with the mode\n",
    "# List of columns in dataframe\n",
    "columns = ['Bar', 'CoffeeHouse', 'CarryAway', 'RestaurantLessThan20', 'Restaurant20To50']\n",
    "\n",
    "# Fill missing values with the mode of each column\n",
    "for column in columns:\n",
    "    mode_value = data[column].mode()[0]\n",
    "    data[column] = data[column].fillna(mode_value)\n",
    "\n"
   ]
  },
  {
   "cell_type": "code",
   "execution_count": 45,
   "metadata": {},
   "outputs": [
    {
     "name": "stdout",
     "output_type": "stream",
     "text": [
      "destination             0\n",
      "passanger               0\n",
      "weather                 0\n",
      "temperature             0\n",
      "time                    0\n",
      "coupon                  0\n",
      "expiration              0\n",
      "gender                  0\n",
      "age                     0\n",
      "maritalStatus           0\n",
      "has_children            0\n",
      "education               0\n",
      "occupation              0\n",
      "income                  0\n",
      "Bar                     0\n",
      "CoffeeHouse             0\n",
      "CarryAway               0\n",
      "RestaurantLessThan20    0\n",
      "Restaurant20To50        0\n",
      "toCoupon_GEQ5min        0\n",
      "toCoupon_GEQ15min       0\n",
      "toCoupon_GEQ25min       0\n",
      "direction_same          0\n",
      "direction_opp           0\n",
      "Y                       0\n",
      "dtype: int64\n"
     ]
    }
   ],
   "source": [
    "# checking for any remaining missing values\n",
    "missingData = data.isnull().sum()\n",
    "print(missingData)"
   ]
  },
  {
   "cell_type": "markdown",
   "metadata": {
    "id": "YE6oJbXd_qRI"
   },
   "source": [
    "4. What proportion of the total observations chose to accept the coupon?\n",
    "\n"
   ]
  },
  {
   "cell_type": "code",
   "execution_count": 46,
   "metadata": {
    "id": "86GGqBTv_qRI"
   },
   "outputs": [
    {
     "name": "stdout",
     "output_type": "stream",
     "text": [
      "56.84% of the total participants chose to accept the coupon\n"
     ]
    }
   ],
   "source": [
    "totalParticipants = data.shape[0]\n",
    "totalAccepted = (data['Y'] == 1).sum()\n",
    "proportion = (totalAccepted/totalParticipants)*100\n",
    "proportion = round(proportion,2)\n",
    "print(str(proportion)+'% of the total participants chose to accept the coupon')"
   ]
  },
  {
   "cell_type": "raw",
   "metadata": {
    "id": "vflz0DoE_qRI"
   },
   "source": [
    "5. Use a bar plot to visualize the `coupon` column."
   ]
  },
  {
   "cell_type": "code",
   "execution_count": 47,
   "metadata": {
    "id": "dHFh3E45_qRI"
   },
   "outputs": [
    {
     "data": {
      "text/plain": [
       "<Axes: xlabel='coupon', ylabel='count'>"
      ]
     },
     "execution_count": 47,
     "metadata": {},
     "output_type": "execute_result"
    },
    {
     "data": {
      "image/png": "[encoded data removed]",
      "text/plain": [
       "<Figure size 1000x400 with 1 Axes>"
      ]
     },
     "metadata": {},
     "output_type": "display_data"
    }
   ],
   "source": [
    "plt.figure(figsize=(10,4))\n",
    "sns.countplot(x='coupon',data=data)"
   ]
  },
  {
   "cell_type": "markdown",
   "metadata": {
    "id": "Qw4lCyx2_qRI"
   },
   "source": [
    "6. Use a histogram to visualize the temperature column."
   ]
  },
  {
   "cell_type": "code",
   "execution_count": 48,
   "metadata": {
    "id": "Yg9Anv71_qRI"
   },
   "outputs": [
    {
     "data": {
      "text/plain": [
       "<Axes: xlabel='temperature', ylabel='Count'>"
      ]
     },
     "execution_count": 48,
     "metadata": {},
     "output_type": "execute_result"
    },
    {
     "data": {
      "image/png": "[encoded data removed]",
      "text/plain": [
       "<Figure size 640x480 with 1 Axes>"
      ]
     },
     "metadata": {},
     "output_type": "display_data"
    }
   ],
   "source": [
    "sns.histplot(x='temperature',bins=5,hue='temperature',fill=True,data=data)"
   ]
  },
  {
   "cell_type": "code",
   "execution_count": null,
   "metadata": {
    "id": "zLtOaJQk_qRI"
   },
   "outputs": [],
   "source": []
  },
  {
   "cell_type": "code",
   "execution_count": null,
   "metadata": {
    "id": "7GBHZKBp_qRJ"
   },
   "outputs": [],
   "source": []
  },
  {
   "cell_type": "code",
   "execution_count": null,
   "metadata": {
    "id": "Y5nBUA-j_qRJ"
   },
   "outputs": [],
   "source": []
  },
  {
   "cell_type": "code",
   "execution_count": null,
   "metadata": {
    "id": "ShcUC-Vm_qRJ"
   },
   "outputs": [],
   "source": []
  },
  {
   "cell_type": "markdown",
   "metadata": {
    "id": "FupfgeJk_qRJ"
   },
   "source": [
    "**Investigating the Bar Coupons**\n",
    "\n",
    "Now, we will lead you through an exploration of just the bar related coupons.  \n",
    "\n",
    "1. Create a new `DataFrame` that contains just the bar coupons.\n"
   ]
  },
  {
   "cell_type": "code",
   "execution_count": 49,
   "metadata": {
    "id": "tMBlWuGq_qRJ"
   },
   "outputs": [],
   "source": [
    "barDF = data[data['coupon'] == 'Bar']"
   ]
  },
  {
   "cell_type": "markdown",
   "metadata": {
    "id": "8ue6uCqf_qRJ"
   },
   "source": [
    "2. What proportion of bar coupons were accepted?\n"
   ]
  },
  {
   "cell_type": "code",
   "execution_count": 50,
   "metadata": {
    "id": "hSdte8Mi_qRK"
   },
   "outputs": [
    {
     "name": "stdout",
     "output_type": "stream",
     "text": [
      "41.0% of the bar coupons were accepted\n"
     ]
    }
   ],
   "source": [
    "# getting the total number of bar coupons available\n",
    "barShape = barDF.shape[0]\n",
    "\n",
    "# getting the sum of the accepted coupons\n",
    "acceptedCoupons = (barDF['Y']==1).sum()\n",
    "barProportion = (acceptedCoupons/barShape)*100\n",
    "barProportion = round(barProportion,2)\n",
    "\n",
    "\n",
    "print(str(barProportion)+'% of the bar coupons were accepted')"
   ]
  },
  {
   "cell_type": "markdown",
   "metadata": {
    "id": "85nA_iEi_qRK"
   },
   "source": [
    "3. Compare the acceptance rate between those who went to a bar 3 or fewer times a month to those who went more.\n"
   ]
  },
  {
   "cell_type": "code",
   "execution_count": 51,
   "metadata": {
    "id": "LBOrN-XM_qRK"
   },
   "outputs": [
    {
     "name": "stdout",
     "output_type": "stream",
     "text": [
      "3 or fewer: 33.42%\n",
      "More than 3: 7.59%\n"
     ]
    }
   ],
   "source": [
    "# filtering in the values in the dataframe to compare the acceptance rates of drivers who went to the bar more and less than 3 times\n",
    "lessThan3 = barDF[(barDF['Bar'].isin(['1~3', 'less1', 'never'])) & (barDF['Y'] == 1)]['Y'].sum()\n",
    "\n",
    "moreThan3 = barDF[(barDF['Bar'].isin(['4~8', 'gt8'])) & (barDF['Y'] == 1)]['Y'].sum()\n",
    "\n",
    "# calculating the acceptance rates\n",
    "lessthan3Acceptance = round(((lessThan3/barShape)*100),2)\n",
    "morethan3Acceptance = round(((moreThan3/barShape)*100),2)\n",
    "\n",
    "print('3 or fewer: '+str(lessthan3Acceptance)+'%\\nMore than 3: '+str(morethan3Acceptance)+'%')\n",
    "\n",
    "\n",
    "\n"
   ]
  },
  {
   "cell_type": "markdown",
   "metadata": {},
   "source": [
    "Analyzing this result, we can see that the drivers who visit the bar less tend to accept the coupon more frequently."
   ]
  },
  {
   "cell_type": "markdown",
   "metadata": {
    "id": "RBgcQwH4_qRK"
   },
   "source": [
    "4. Compare the acceptance rate between drivers who go to a bar more than once a month and are over the age of 25 to the all others.  Is there a difference?\n"
   ]
  },
  {
   "cell_type": "code",
   "execution_count": 52,
   "metadata": {
    "id": "bf28bbeX_qRK"
   },
   "outputs": [
    {
     "name": "stdout",
     "output_type": "stream",
     "text": [
      "Over 25: 14.48%\n",
      "Under 25: 5.85%\n"
     ]
    }
   ],
   "source": [
    "# setting the filters for the dataframe\n",
    "barFilter = ['1~3', '4~8', 'gt8']\n",
    "ageFilter = ['21', 'below21']\n",
    "\n",
    "# Calculating the number of drivers above 25 who go to the bar more than once a month\n",
    "over25 = barDF[(barDF['Bar'].isin(barFilter)) & (~barDF['age'].isin(ageFilter)) & (barDF['Y'] == 1)]['Y'].sum()\n",
    "\n",
    "# Calculating the number of drivers below 25 who go to the bar more than once a month\n",
    "under25 = barDF[(barDF['Bar'].isin(barFilter)) & (barDF['age'].isin(ageFilter)) & (barDF['Y'] == 1)]['Y'].sum()\n",
    "\n",
    "# Calculating the acceptance rates\n",
    "over25Acceptance = round(((over25 / barShape) * 100), 2)\n",
    "under25Acceptance = round(((under25 / barShape) * 100), 2)\n",
    "\n",
    "\n",
    "print('Over 25: '+str(over25Acceptance)+'%\\nUnder 25: '+str(under25Acceptance)+'%')\n"
   ]
  },
  {
   "cell_type": "markdown",
   "metadata": {},
   "source": [
    "From this result, I would say that there is a difference as the drivers who are over 25 that go more than once a month tend to accept the coupon more often than those who are younger than 25 by 8.63%"
   ]
  },
  {
   "cell_type": "markdown",
   "metadata": {
    "id": "S4RKT4PJ_qRK"
   },
   "source": [
    "5. Use the same process to compare the acceptance rate between drivers who go to bars more than once a month and had passengers that were not a kid and had occupations other than farming, fishing, or forestry.\n"
   ]
  },
  {
   "cell_type": "code",
   "execution_count": 53,
   "metadata": {
    "id": "sENaI2Tg_qRK"
   },
   "outputs": [
    {
     "name": "stdout",
     "output_type": "stream",
     "text": [
      "No Kid: 19.48%\n",
      "Has Kid: 0.05%\n"
     ]
    }
   ],
   "source": [
    "# setting up the filtlers for the dataframe\n",
    "filterColumns1 = ['passanger','occupation','Y','Bar']\n",
    "filterWords1 = ['Kid(s)','Farming Fishing & Forestry','never','less1',0]\n",
    "\n",
    "# Filtering the dataframe\n",
    "noKidPass = (barDF[~barDF[filterColumns1].isin(filterWords1).any(axis=1)])['Y'].sum()\n",
    "\n",
    "# Filtering the dataframe\n",
    "filterWords2 = ['Kid(s)','Farming Fishing & Forestry','never','less1']\n",
    "hasKidPass = (barDF[barDF['passanger'].isin(filterWords2) & barDF['occupation'].isin(filterWords2)&barDF['Bar'].isin(filterWords2)&(barDF['Y']==1)])['Y'].sum()\n",
    "\n",
    "\n",
    "# Calculating the acceptance rate\n",
    "noKidAcceptance = round(((noKidPass/barShape)*100),2)\n",
    "hasKidAcceptance = round(((hasKidPass/barShape)*100),2)\n",
    "\n",
    "\n",
    "\n",
    "print('No Kid: '+str(noKidAcceptance)+'%\\nHas Kid: '+str(hasKidAcceptance)+'%')"
   ]
  },
  {
   "cell_type": "markdown",
   "metadata": {
    "id": "n2LIUTil_qRK"
   },
   "source": [
    "6. Compare the acceptance rates between those drivers who:\n",
    "\n",
    "- go to bars more than once a month, had passengers that were not a kid, and were not widowed *OR*\n",
    "- go to bars more than once a month and are under the age of 30 *OR*\n",
    "- go to cheap restaurants more than 4 times a month and income is less than 50K.\n",
    "\n"
   ]
  },
  {
   "cell_type": "code",
   "execution_count": 54,
   "metadata": {
    "id": "aK_wEzx7_qRK"
   },
   "outputs": [
    {
     "name": "stdout",
     "output_type": "stream",
     "text": [
      "No Kid or Widow: 19.48%\n",
      "Under 30: 0.05%\n",
      "Less than 50K: 7.73%\n"
     ]
    }
   ],
   "source": [
    "# passengers going to the bar more than once a month with no kids and are not widows\n",
    "filteroutWords1 = ['widowed','Kid(s)','less1','never',0]\n",
    "filterColumns = ['maritalStatus','passanger','Bar','Y']\n",
    "\n",
    "filtered1 = (barDF[~barDF[filterColumns].isin(filteroutWords1).any(axis=1)])['Y'].sum()\n",
    "\n",
    "# passengers going to the bar more than once a month and are under 30\n",
    "filteroutWords2 = ['less1','never',0]\n",
    "filterinWords = ['21','26']\n",
    "filterColumnOut = ['Bar','Y']\n",
    "filterColumnIn = ['age']\n",
    "\n",
    "filtered2 = (barDF[(~barDF[filterColumnOut].isin(filteroutWords2).any(axis=1)) & (barDF[filterColumnIn].isin(filterinWords).any(axis=1))])['Y'].sum()\n",
    "\n",
    "# passengers who go to cheap restaurants more than 4 times a month and income is less than 50k\n",
    "filterinWords1 = ['4~8','gt8','$37500 - $49999','$12500 - $24999','$25000 - $37499','Less than $12500']\n",
    "filterColumnIn1 = ['RestaurantLessThan20','income']\n",
    "filtered3 = (barDF[barDF['RestaurantLessThan20'].isin(filterinWords1) & barDF['income'].isin(filterinWords1) &(barDF['Y']==1)])['Y'].sum()\n",
    "\n",
    "# Calculating acceptance rate\n",
    "\n",
    "filtered1Acceptance = round(((filtered1/barShape)*100),2)\n",
    "filtered2Acceptance = round(((filtered2/barShape)*100),2)\n",
    "filtered3Acceptance = round(((filtered3/barShape)*100),2)\n",
    "\n",
    "print('No Kid or Widow: '+str(filtered1Acceptance)+'%\\nUnder 30: '+str(hasKidAcceptance)+'%\\nLess than 50K: '+str(filtered3Acceptance)+'%')"
   ]
  },
  {
   "cell_type": "markdown",
   "metadata": {
    "id": "v3fL3QkO_qRK"
   },
   "source": [
    "7.  Based on these observations, what do you hypothesize about drivers who accepted the bar coupons?"
   ]
  },
  {
   "cell_type": "markdown",
   "metadata": {
    "id": "Y48naDFh_qRL"
   },
   "source": [
    "* Based on the above observations the majority of the drivers who accepted the bar coupons are those without kids and those who go to the bar more than once a month. We see that the drivers who go to the bar less than 3 times a month are more likely to accept the bar coupons, possibly due to the fact they haven't gone in some time compared to the regular customers. "
   ]
  },
  {
   "cell_type": "markdown",
   "metadata": {
    "id": "r4Hu1zOb_qRL"
   },
   "source": [
    "### Independent Investigation\n",
    "\n",
    "Using the bar coupon example as motivation, you are to explore one of the other coupon groups and try to determine the characteristics of passengers who accept the coupons.  "
   ]
  },
  {
   "cell_type": "markdown",
   "metadata": {
    "id": "0c71cQhu_qRL"
   },
   "source": [
    "Now I will analyze the carryout data to see the percentage of people who accept the carryout coupons"
   ]
  },
  {
   "cell_type": "code",
   "execution_count": 55,
   "metadata": {
    "id": "QEsBkvIN_qRL"
   },
   "outputs": [],
   "source": [
    "# creating the carryout dataframe\n",
    "carryoutDF = data[data['coupon']=='Carry out & Take away']"
   ]
  },
  {
   "cell_type": "code",
   "execution_count": 56,
   "metadata": {
    "id": "fTC2WGE3_qRL"
   },
   "outputs": [
    {
     "name": "stdout",
     "output_type": "stream",
     "text": [
      "73.55% of the carry out/takeaway coupons were accepted\n"
     ]
    }
   ],
   "source": [
    "# getting the total number of carryout coupons\n",
    "carryShape = carryoutDF.shape[0]\n",
    "\n",
    "#first find out the proportion of carry out coupons accepted\n",
    "carryoutProportion = (carryoutDF['Y']==1).sum()/carryShape\n",
    "carryoutProportion = round((carryoutProportion*100),2)\n",
    "\n",
    "print(str(carryoutProportion)+'% of the carry out/takeaway coupons were accepted')"
   ]
  },
  {
   "cell_type": "markdown",
   "metadata": {},
   "source": [
    "Showing chart of Age groups"
   ]
  },
  {
   "cell_type": "code",
   "execution_count": 57,
   "metadata": {},
   "outputs": [
    {
     "data": {
      "text/plain": [
       "<Axes: xlabel='income', ylabel='Count'>"
      ]
     },
     "execution_count": 57,
     "metadata": {},
     "output_type": "execute_result"
    },
    {
     "data": {
      "image/png": "[encoded data removed]",
      "text/plain": [
       "<Figure size 1600x600 with 1 Axes>"
      ]
     },
     "metadata": {},
     "output_type": "display_data"
    }
   ],
   "source": [
    "plt.figure(figsize=(16,6))\n",
    "sns.histplot(x='income',bins=5,hue='income',fill=True,data=data)"
   ]
  },
  {
   "cell_type": "markdown",
   "metadata": {},
   "source": [
    "We see that the people with income of $25,000 to $37,499 is the majority. "
   ]
  },
  {
   "cell_type": "markdown",
   "metadata": {},
   "source": [
    "I will also see what time of day were the users asked about the coupons"
   ]
  },
  {
   "cell_type": "code",
   "execution_count": 58,
   "metadata": {},
   "outputs": [
    {
     "data": {
      "text/plain": [
       "<Axes: xlabel='time', ylabel='Count'>"
      ]
     },
     "execution_count": 58,
     "metadata": {},
     "output_type": "execute_result"
    },
    {
     "data": {
      "image/png": "[encoded data removed]",
      "text/plain": [
       "<Figure size 640x480 with 1 Axes>"
      ]
     },
     "metadata": {},
     "output_type": "display_data"
    }
   ],
   "source": [
    "sns.histplot(x='time',bins=5,hue='time',fill=True,data=data)"
   ]
  },
  {
   "cell_type": "markdown",
   "metadata": {},
   "source": [
    "We see that people are asked mostly in the morning at 7AM or in the evening at 6PM. This is most likely due to them either driving to work\n",
    "or driving home from work"
   ]
  },
  {
   "cell_type": "markdown",
   "metadata": {},
   "source": [
    "Observing whether the driver was alone or with passengers"
   ]
  },
  {
   "cell_type": "code",
   "execution_count": 59,
   "metadata": {},
   "outputs": [
    {
     "data": {
      "text/plain": [
       "<Axes: xlabel='passanger', ylabel='Count'>"
      ]
     },
     "execution_count": 59,
     "metadata": {},
     "output_type": "execute_result"
    },
    {
     "data": {
      "image/png": "[encoded data removed]",
      "text/plain": [
       "<Figure size 640x480 with 1 Axes>"
      ]
     },
     "metadata": {},
     "output_type": "display_data"
    }
   ],
   "source": [
    "sns.histplot(x='passanger',bins=5,hue='passanger',fill=True,data=data)"
   ]
  },
  {
   "cell_type": "markdown",
   "metadata": {},
   "source": [
    "We see a huge majority of people driving alone compared to the other options"
   ]
  },
  {
   "cell_type": "markdown",
   "metadata": {},
   "source": [
    "Seeing the coupon distribution for all drivers"
   ]
  },
  {
   "cell_type": "code",
   "execution_count": 60,
   "metadata": {},
   "outputs": [
    {
     "data": {
      "text/plain": [
       "<Axes: xlabel='coupon', ylabel='Count'>"
      ]
     },
     "execution_count": 60,
     "metadata": {},
     "output_type": "execute_result"
    },
    {
     "data": {
      "image/png": "[encoded data removed]",
      "text/plain": [
       "<Figure size 1300x500 with 1 Axes>"
      ]
     },
     "metadata": {},
     "output_type": "display_data"
    }
   ],
   "source": [
    "plt.figure(figsize=(13,5))\n",
    "sns.histplot(x='coupon',bins=5,hue='coupon',fill=True,data=data)"
   ]
  },
  {
   "cell_type": "markdown",
   "metadata": {
    "id": "RrqUWn7d_qRL"
   },
   "source": [
    "Investigating how gender and kids factor in accepting the coupons"
   ]
  },
  {
   "cell_type": "code",
   "execution_count": 61,
   "metadata": {},
   "outputs": [
    {
     "name": "stdout",
     "output_type": "stream",
     "text": [
      "Female Only: 36.98%\n",
      "maleOnly: 36.56% \n",
      "Female with Kid: 2.67%\n",
      "Male with Kid: 34.77%\n"
     ]
    }
   ],
   "source": [
    "# creating the filter for the dataframe\n",
    "filterWords = ['Female','Kid(s)',0]\n",
    "columnFilter = ['passanger','gender','Y']\n",
    "\n",
    "# filtering dataframe\n",
    "femalewithKid = (carryoutDF[carryoutDF['passanger'].isin(filterWords) & carryoutDF['gender'].isin(filterWords) &(carryoutDF['Y']==1)])['Y'].sum()\n",
    "malewithKid = (carryoutDF[~carryoutDF[columnFilter].isin(filterWords).any(axis=1)])['Y'].sum()\n",
    "femaleOnly = (carryoutDF[(carryoutDF['gender']=='Female')&(carryoutDF['Y']==1)])['Y'].sum()\n",
    "maleOnly = (carryoutDF[(carryoutDF['gender']=='Male')&(carryoutDF['Y']==1)])['Y'].sum()\n",
    "\n",
    "# calculating acceptance rate\n",
    "femaleOnlyAcceptance = round(((femaleOnly/carryShape) *100),2)\n",
    "maleOnlyAcceptance = round(((maleOnly/carryShape) *100),2)\n",
    "femaleAcceptance = round(((femalewithKid/carryShape) *100),2)\n",
    "maleAcceptance = round(((malewithKid/carryShape) *100),2)\n",
    "\n",
    "print('Female Only: '+str(femaleOnlyAcceptance)+'%\\nmaleOnly: '+str(maleOnlyAcceptance)+'% \\nFemale with Kid: '+str(femaleAcceptance)+'%\\nMale with Kid: '+str(maleAcceptance)+'%')"
   ]
  },
  {
   "cell_type": "markdown",
   "metadata": {},
   "source": [
    "From this observation, I see that Males with children are more likely to accept a carryout coupon."
   ]
  },
  {
   "cell_type": "markdown",
   "metadata": {
    "id": "_oykf8YP_qRL"
   },
   "source": [
    "Investigating how Carryout frequencies along with if the driver is single affects the coupon acceptance percentage"
   ]
  },
  {
   "cell_type": "code",
   "execution_count": 62,
   "metadata": {},
   "outputs": [
    {
     "name": "stdout",
     "output_type": "stream",
     "text": [
      "Not Married: 27.29%\n",
      "Married: 35.23%\n"
     ]
    }
   ],
   "source": [
    "# creating filter for dataframe\n",
    "notMarriedFilter = ['never','less1','Married partner','Unmarried partner',0]\n",
    "marriedFilter = ['never','less1','Single','Divorced','Widowed',0]\n",
    "columnFilter = ['CarryAway','maritalStatus','Y']\n",
    "\n",
    "# filtering dataframe\n",
    "notMarried = (carryoutDF[~carryoutDF[columnFilter].isin(notMarriedFilter).any(axis=1)])['Y'].sum()\n",
    "married = (carryoutDF[~carryoutDF[columnFilter].isin(marriedFilter).any(axis=1)])['Y'].sum()\n",
    "\n",
    "# calculating acceptance rate\n",
    "notMarriedAcceptance = round(((notMarried/carryShape)*100),2)\n",
    "marriedAcceptance = round(((married/carryShape)*100),2)\n",
    "\n",
    "print('Not Married: '+str(notMarriedAcceptance)+'%\\nMarried: '+str(marriedAcceptance)+'%')"
   ]
  },
  {
   "cell_type": "markdown",
   "metadata": {},
   "source": [
    "I see that married drivers are more likely to accept the carryout coupons, possibly due to busy schedules and carry out is  a quick way to get food."
   ]
  },
  {
   "cell_type": "markdown",
   "metadata": {},
   "source": [
    "Certain Occupations could also influence the frequency of accepting coupons"
   ]
  },
  {
   "cell_type": "code",
   "execution_count": 64,
   "metadata": {},
   "outputs": [
    {
     "name": "stdout",
     "output_type": "stream",
     "text": [
      "No Job: 8.61%\n",
      "Has Job: 27.0%\n"
     ]
    }
   ],
   "source": [
    "# creating filter for dataframe\n",
    "occupationFilter = ['Unemployed','Student','4~8','gt8',0]\n",
    "columnFilter = ['occupation','CarryAway','Y']\n",
    "\n",
    "# filtering dataframe\n",
    "noJob = (carryoutDF[(carryoutDF['occupation'].isin(occupationFilter)) & (carryoutDF['CarryAway'].isin(occupationFilter)) & (carryoutDF['Y']==1)])['Y'].sum()\n",
    "hasJob = (carryoutDF[~carryoutDF[columnFilter].isin(occupationFilter).any(axis=1)])['Y'].sum()\n",
    "\n",
    "# calculating acceptance rate\n",
    "noJobAcceptance = round(((noJob/carryShape)*100),2)\n",
    "hasJobAcceptance = round(((hasJob/carryShape)*100),2)\n",
    "\n",
    "\n",
    "print('No Job: '+str(noJobAcceptance)+'%\\nHas Job: '+str(hasJobAcceptance)+'%')"
   ]
  },
  {
   "cell_type": "markdown",
   "metadata": {},
   "source": [
    "As expected, drivers who already obtained a job are more likely to accept the coupons due to more financial flexibility. The unemployed and students will have a harder time affording the meals even with the coupons"
   ]
  },
  {
   "cell_type": "markdown",
   "metadata": {},
   "source": [
    "Lastly, the type of weather can have a big affect on whether a driver accepts the coupon or not"
   ]
  },
  {
   "cell_type": "code",
   "execution_count": 65,
   "metadata": {},
   "outputs": [
    {
     "name": "stdout",
     "output_type": "stream",
     "text": [
      "Bad Weather: 8.27%\n",
      "Good Weather: 29.46%\n"
     ]
    }
   ],
   "source": [
    "# creating weather filters\n",
    "weatherFilter = ['Snowy','Rainy','4~8','gt8',0]\n",
    "columnFilter = ['weather','CarryAway','Y']\n",
    "\n",
    "# filtering dataframe\n",
    "badWeather = (carryoutDF[(carryoutDF['weather'].isin(weatherFilter)) & (carryoutDF['CarryAway'].isin(weatherFilter)) & (carryoutDF['Y']==1)])['Y'].sum()\n",
    "goodWeather = (carryoutDF[~carryoutDF[columnFilter].isin(weatherFilter).any(axis=1)])['Y'].sum()\n",
    "\n",
    "\n",
    "# calculating acceptance rate\n",
    "badWeatherAcceptance = round(((badWeather/carryShape)*100),2)\n",
    "goodWeatherAcceptance = round(((goodWeather/carryShape)*100),2)\n",
    "\n",
    "\n",
    "print('Bad Weather: '+str(badWeatherAcceptance)+'%\\nGood Weather: '+str(goodWeatherAcceptance)+'%')"
   ]
  },
  {
   "cell_type": "markdown",
   "metadata": {},
   "source": [
    "From this observation, we see that drivers are more likely to accept the coupon during good weather, like when it is sunny outside"
   ]
  },
  {
   "cell_type": "markdown",
   "metadata": {},
   "source": [
    "Based on my observations, coupon acceptance is reliant on good weather, people having a job. I also found that Men with kids as a passenger\n",
    "will be more likely to accept the coupon than females and by a small percentage, married drivers are more likely to accept a carryout coupon."
   ]
  },
  {
   "cell_type": "code",
   "execution_count": null,
   "metadata": {},
   "outputs": [],
   "source": []
  }
 ],
 "metadata": {
  "colab": {
   "provenance": []
  },
  "kernelspec": {
   "display_name": "Python 3 (ipykernel)",
   "language": "python",
   "name": "python3"
  },
  "language_info": {
   "codemirror_mode": {
    "name": "ipython",
    "version": 3
   },
   "file_extension": ".py",
   "mimetype": "text/x-python",
   "name": "python",
   "nbconvert_exporter": "python",
   "pygments_lexer": "ipython3",
   "version": "3.12.7"
  }
 },
 "nbformat": 4,
 "nbformat_minor": 4
}
